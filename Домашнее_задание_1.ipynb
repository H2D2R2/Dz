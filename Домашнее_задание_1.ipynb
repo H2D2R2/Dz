{
  "nbformat": 4,
  "nbformat_minor": 0,
  "metadata": {
    "colab": {
      "name": "Домашнее задание 1",
      "provenance": [],
      "collapsed_sections": [],
      "authorship_tag": "ABX9TyPO1FNAtbZDV26Cv3bhz1b9",
      "include_colab_link": true
    },
    "kernelspec": {
      "name": "python3",
      "display_name": "Python 3"
    }
  },
  "cells": [
    {
      "cell_type": "markdown",
      "metadata": {
        "id": "view-in-github",
        "colab_type": "text"
      },
      "source": [
        "<a href=\"https://colab.research.google.com/github/H2D2R2/Dz/blob/main/%D0%94%D0%BE%D0%BC%D0%B0%D1%88%D0%BD%D0%B5%D0%B5_%D0%B7%D0%B0%D0%B4%D0%B0%D0%BD%D0%B8%D0%B5_1.ipynb\" target=\"_parent\"><img src=\"https://colab.research.google.com/assets/colab-badge.svg\" alt=\"Open In Colab\"/></a>"
      ]
    },
    {
      "cell_type": "markdown",
      "metadata": {
        "id": "7rqgLi8vNRHj"
      },
      "source": [
        "# Задание 1.\n",
        "\n",
        "Из колоды в 52 карты извлекаются случайным образом 4 карты. \n",
        "a) Найти вероятность того, что все карты – крести. "
      ]
    },
    {
      "cell_type": "code",
      "metadata": {
        "id": "2xQ1cnGkAVz4"
      },
      "source": [
        "from math import factorial                                                      #импортируем нужные библиотеки           "
      ],
      "execution_count": null,
      "outputs": []
    },
    {
      "cell_type": "code",
      "metadata": {
        "id": "ALq-wFEhAZ3_"
      },
      "source": [
        "def combinations(n, k):                                                         #создаем нужную формулу\n",
        "    return int(factorial(n) / (factorial(k) * factorial(n - k)))"
      ],
      "execution_count": null,
      "outputs": []
    },
    {
      "cell_type": "code",
      "metadata": {
        "id": "N0I9iPgPMDbk",
        "outputId": "5d497048-9802-468d-ccb5-4f5eb5831e58",
        "colab": {
          "base_uri": "https://localhost:8080/"
        }
      },
      "source": [
        "52/4                                                                            #находим количество карт крести"
      ],
      "execution_count": null,
      "outputs": [
        {
          "output_type": "execute_result",
          "data": {
            "text/plain": [
              "13.0"
            ]
          },
          "metadata": {
            "tags": []
          },
          "execution_count": 9
        }
      ]
    },
    {
      "cell_type": "code",
      "metadata": {
        "id": "biwnqshxO52L",
        "outputId": "6363485e-eee5-45f6-ae0a-c073da632aa0",
        "colab": {
          "base_uri": "https://localhost:8080/"
        }
      },
      "source": [
        "combinations(13, 4)                                                             #находим количество сочетаний всех крести"
      ],
      "execution_count": null,
      "outputs": [
        {
          "output_type": "execute_result",
          "data": {
            "text/plain": [
              "715"
            ]
          },
          "metadata": {
            "tags": []
          },
          "execution_count": 11
        }
      ]
    },
    {
      "cell_type": "code",
      "metadata": {
        "id": "5DDgaBAG0B4-",
        "outputId": "5986e282-1158-4a16-8eb2-99d46d917e55",
        "colab": {
          "base_uri": "https://localhost:8080/"
        }
      },
      "source": [
        "combinations(39, 0)                                                             #количество комбинаций обычных карт"
      ],
      "execution_count": null,
      "outputs": [
        {
          "output_type": "execute_result",
          "data": {
            "text/plain": [
              "1"
            ]
          },
          "metadata": {
            "tags": []
          },
          "execution_count": 29
        }
      ]
    },
    {
      "cell_type": "code",
      "metadata": {
        "id": "PiUXgmcY0PHv",
        "outputId": "98e803a8-53be-41a3-9f54-eee16f30d61c",
        "colab": {
          "base_uri": "https://localhost:8080/"
        }
      },
      "source": [
        "715 * 1                                                                         #уножаем все сочитания крести на \n",
        "                                                                                #сочитания остальных карт"
      ],
      "execution_count": 1,
      "outputs": [
        {
          "output_type": "execute_result",
          "data": {
            "text/plain": [
              "715"
            ]
          },
          "metadata": {
            "tags": []
          },
          "execution_count": 1
        }
      ]
    },
    {
      "cell_type": "code",
      "metadata": {
        "id": "zacivcc-P2Qo",
        "outputId": "963b9f85-06bd-40e8-987c-3b8486f9efe1",
        "colab": {
          "base_uri": "https://localhost:8080/"
        }
      },
      "source": [
        "combinations(52, 4)                                                             #находим количество сочетаний всех карт"
      ],
      "execution_count": null,
      "outputs": [
        {
          "output_type": "execute_result",
          "data": {
            "text/plain": [
              "270725"
            ]
          },
          "metadata": {
            "tags": []
          },
          "execution_count": 25
        }
      ]
    },
    {
      "cell_type": "code",
      "metadata": {
        "id": "tx_Rm0f3P8Rj",
        "outputId": "b75da013-d6e2-469b-d38f-475befd7ce0f",
        "colab": {
          "base_uri": "https://localhost:8080/"
        }
      },
      "source": [
        "715/270725                                                                      #делим число возможных сочетаний \n",
        "                                                                                #крести на общее число сочетаний"
      ],
      "execution_count": null,
      "outputs": [
        {
          "output_type": "execute_result",
          "data": {
            "text/plain": [
              "0.0026410564225690276"
            ]
          },
          "metadata": {
            "tags": []
          },
          "execution_count": 23
        }
      ]
    },
    {
      "cell_type": "markdown",
      "metadata": {
        "id": "KF-26DMbjcY1"
      },
      "source": [
        "Ответ: Вероятность вытащить 4 карты крести из 52 карт колоды равняется 2,6%\n",
        "\n",
        "\n",
        "\n",
        "\n",
        "**б)** Найти вероятность, что среди 4-х карт окажется хотя бы один туз."
      ]
    },
    {
      "cell_type": "code",
      "metadata": {
        "id": "U7w8DQDPyCyC",
        "outputId": "7f37873c-90cc-4817-8edf-5c3991116262",
        "colab": {
          "base_uri": "https://localhost:8080/"
        }
      },
      "source": [
        "combinations(4, 1)                                                              #все возможные комбинации с один тузом в 4х картах"
      ],
      "execution_count": null,
      "outputs": [
        {
          "output_type": "execute_result",
          "data": {
            "text/plain": [
              "4"
            ]
          },
          "metadata": {
            "tags": []
          },
          "execution_count": 28
        }
      ]
    },
    {
      "cell_type": "code",
      "metadata": {
        "id": "I5HrejSfz74u",
        "outputId": "2baf3775-764d-4d7f-d1a4-099894f02184",
        "colab": {
          "base_uri": "https://localhost:8080/"
        }
      },
      "source": [
        "52 - 4                                                                          #количество карт за исключением 4х тузов в колоде"
      ],
      "execution_count": null,
      "outputs": [
        {
          "output_type": "execute_result",
          "data": {
            "text/plain": [
              "48"
            ]
          },
          "metadata": {
            "tags": []
          },
          "execution_count": 31
        }
      ]
    },
    {
      "cell_type": "code",
      "metadata": {
        "id": "J-9_Cmm-1IkV",
        "outputId": "02894c78-7285-4067-9028-12da0aed0047",
        "colab": {
          "base_uri": "https://localhost:8080/"
        }
      },
      "source": [
        "combinations(48, 3)                                                             #всего возможных комбинаций без тузов"
      ],
      "execution_count": null,
      "outputs": [
        {
          "output_type": "execute_result",
          "data": {
            "text/plain": [
              "17296"
            ]
          },
          "metadata": {
            "tags": []
          },
          "execution_count": 37
        }
      ]
    },
    {
      "cell_type": "code",
      "metadata": {
        "id": "IxYxh92J1fEm",
        "outputId": "258a9dd9-0f46-4426-a2c6-23b56c6eed07",
        "colab": {
          "base_uri": "https://localhost:8080/"
        }
      },
      "source": [
        "4 * 17296                                                                       #умножаем количество комбинаций \n",
        "                                                                                #тузов на остальные комбинации"
      ],
      "execution_count": null,
      "outputs": [
        {
          "output_type": "execute_result",
          "data": {
            "text/plain": [
              "69184"
            ]
          },
          "metadata": {
            "tags": []
          },
          "execution_count": 38
        }
      ]
    },
    {
      "cell_type": "code",
      "metadata": {
        "id": "0Knd2Erg1q-f",
        "outputId": "7e2c2b06-05a0-45d3-9df0-bc59d9c7221b",
        "colab": {
          "base_uri": "https://localhost:8080/"
        }
      },
      "source": [
        "combinations(52, 4)                                                             #общее число комбинаций     "
      ],
      "execution_count": null,
      "outputs": [
        {
          "output_type": "execute_result",
          "data": {
            "text/plain": [
              "270725"
            ]
          },
          "metadata": {
            "tags": []
          },
          "execution_count": 36
        }
      ]
    },
    {
      "cell_type": "code",
      "metadata": {
        "id": "3SzUzwgS2EP-",
        "outputId": "7a02d55a-3c7c-45fd-aa8d-9a0f44b2d73d",
        "colab": {
          "base_uri": "https://localhost:8080/"
        }
      },
      "source": [
        "69184/270725                                                                    #находим вероятность, что из всех \n",
        "                                                                                #возможных комбинаций выпадет нужная "
      ],
      "execution_count": null,
      "outputs": [
        {
          "output_type": "execute_result",
          "data": {
            "text/plain": [
              "0.25555083571890297"
            ]
          },
          "metadata": {
            "tags": []
          },
          "execution_count": 39
        }
      ]
    },
    {
      "cell_type": "markdown",
      "metadata": {
        "id": "bgbFazbX2XvE"
      },
      "source": [
        "Ответ: вероятность выпадения хоть одного туза при 4х картах из колоды равняется 25%"
      ]
    },
    {
      "cell_type": "markdown",
      "metadata": {
        "id": "xrwSmTOQ1lEn"
      },
      "source": [
        "# Задание 2\n",
        "\n",
        "На входной двери подъезда установлен кодовый замок, содержащий десять кнопок с цифрами от 0 до 9. Код содержит три цифры, которые нужно нажать одновременно. Какова вероятность того, что человек, не знающий код, откроет дверь с первой попытки?"
      ]
    },
    {
      "cell_type": "code",
      "metadata": {
        "id": "JlJ8F8f42GHQ",
        "outputId": "7184f403-670f-4249-e8bb-e10548996504",
        "colab": {
          "base_uri": "https://localhost:8080/"
        }
      },
      "source": [
        "combinations(10, 3)                                                             #находим комбинации для всех 10и кнопок"
      ],
      "execution_count": null,
      "outputs": [
        {
          "output_type": "execute_result",
          "data": {
            "text/plain": [
              "120"
            ]
          },
          "metadata": {
            "tags": []
          },
          "execution_count": 7
        }
      ]
    },
    {
      "cell_type": "code",
      "metadata": {
        "id": "3m8A23BI3iEw",
        "outputId": "becb018d-fe06-4400-ec05-0f272bad5ce4",
        "colab": {
          "base_uri": "https://localhost:8080/"
        }
      },
      "source": [
        "combinations(3, 3)                                                              #доступные комбинации нужных трех чифр"
      ],
      "execution_count": null,
      "outputs": [
        {
          "output_type": "execute_result",
          "data": {
            "text/plain": [
              "1"
            ]
          },
          "metadata": {
            "tags": []
          },
          "execution_count": 6
        }
      ]
    },
    {
      "cell_type": "code",
      "metadata": {
        "id": "O_IUCFmH7cYf",
        "outputId": "546cb54e-9aa7-4774-8124-25f9b9000e93",
        "colab": {
          "base_uri": "https://localhost:8080/"
        }
      },
      "source": [
        "1/120                                                                           #делим все возможные комбинации на искомое"
      ],
      "execution_count": null,
      "outputs": [
        {
          "output_type": "execute_result",
          "data": {
            "text/plain": [
              "0.008333333333333333"
            ]
          },
          "metadata": {
            "tags": []
          },
          "execution_count": 8
        }
      ]
    },
    {
      "cell_type": "markdown",
      "metadata": {
        "id": "bGo6FmIU7hEg"
      },
      "source": [
        "Ответ: вероятность открыть дверь с первой попытки - 8%."
      ]
    },
    {
      "cell_type": "markdown",
      "metadata": {
        "id": "h7wsrlZG7raO"
      },
      "source": [
        "# Задание 3 \n",
        "В ящике имеется 15 деталей, из которых 9 окрашены. Рабочий случайным образом извлекает 3 детали. Какова вероятность того, что все извлеченные детали окрашены?"
      ]
    },
    {
      "cell_type": "code",
      "metadata": {
        "id": "74ZgeFy3D8xU",
        "outputId": "e18a5256-79ec-4faf-8680-1817bf763932",
        "colab": {
          "base_uri": "https://localhost:8080/"
        }
      },
      "source": [
        "9/15 * 9/15 * 9/15"
      ],
      "execution_count": null,
      "outputs": [
        {
          "output_type": "execute_result",
          "data": {
            "text/plain": [
              "0.216"
            ]
          },
          "metadata": {
            "tags": []
          },
          "execution_count": 11
        }
      ]
    },
    {
      "cell_type": "markdown",
      "metadata": {
        "id": "PdqGn6llEsy-"
      },
      "source": [
        "Ответ: 21,5%"
      ]
    },
    {
      "cell_type": "markdown",
      "metadata": {
        "id": "sN7zHP84ExP7"
      },
      "source": [
        "# Задание 4\n",
        "\n",
        "В лотерее 100 билетов. Из них 2 выигрышных. Какова вероятность того, что 2 приобретенных билета окажутся выигрышными?"
      ]
    },
    {
      "cell_type": "code",
      "metadata": {
        "id": "tEWxT6_hFTbP",
        "outputId": "4110a6de-35d7-4491-b7ae-a06c44401434",
        "colab": {
          "base_uri": "https://localhost:8080/"
        }
      },
      "source": [
        "1/100 * 1/100"
      ],
      "execution_count": null,
      "outputs": [
        {
          "output_type": "execute_result",
          "data": {
            "text/plain": [
              "0.0001"
            ]
          },
          "metadata": {
            "tags": []
          },
          "execution_count": 12
        }
      ]
    },
    {
      "cell_type": "markdown",
      "metadata": {
        "id": "UB9OW6VwFaK-"
      },
      "source": [
        "Ответ: вероятность вытащить два выигрышных билета 0,1%."
      ]
    }
  ]
}